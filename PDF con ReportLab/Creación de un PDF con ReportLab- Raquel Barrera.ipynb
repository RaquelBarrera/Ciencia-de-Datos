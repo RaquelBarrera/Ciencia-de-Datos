{
 "cells": [
  {
   "cell_type": "markdown",
   "metadata": {},
   "source": [
    "![linea 1](https://user-images.githubusercontent.com/19308295/115926252-2b8a0c00-a448-11eb-9d9c-b43beaf0ff68.png)"
   ]
  },
  {
   "cell_type": "markdown",
   "metadata": {},
   "source": [
    "<center> <h1>Creación de un PDF con ReportLab</h1> </center> "
   ]
  },
  {
   "cell_type": "markdown",
   "metadata": {},
   "source": [
    "![linea 1](https://user-images.githubusercontent.com/19308295/115926252-2b8a0c00-a448-11eb-9d9c-b43beaf0ff68.png)"
   ]
  },
  {
   "cell_type": "markdown",
   "metadata": {},
   "source": [
    "<h2> AUTOR: Raquel Yoselin Barrera Begazo </h2>\n",
    " <center> <h1>2022</h1> </center> "
   ]
  },
  {
   "cell_type": "markdown",
   "metadata": {},
   "source": [
    "![linea 2](https://user-images.githubusercontent.com/19308295/115926262-2fb62980-a448-11eb-8189-c2f10e499944.png)"
   ]
  },
  {
   "cell_type": "markdown",
   "metadata": {},
   "source": [
    "# TÍTULO DE LA EXPERIENCIA:\n",
    "\n",
    "*PROYECTO CON PYTHON*\n",
    "\n",
    "\n",
    "\n",
    "# Descripción\n",
    "El siguiente proyecto tiene la finalidad de enseñarte a construir reportes PDF utilizando las librerías ReportLab y Matplotlib.\n"
   ]
  },
  {
   "cell_type": "markdown",
   "metadata": {},
   "source": [
    "# PROCEDIMIENTO EMPLEADO\n",
    "Los siguientes pasos describen el desarrollo del proyecto:\n",
    "\n",
    "    1. Crear un PDF con ReportLab \tc = canvas.Canvas(nombre_archivo)\n",
    "    \n",
    "    2. Agregar texto de cabecera con el nombre de la escuela profesional de telecomunicaciones.\n",
    "    \n",
    "    3. Agregar debajo de la cabecera su nombre y correo.\n",
    "    \n",
    "    4. Agregar texto que describa el reporte: “Este reporte muestra la distribución…”.\n",
    "    \n",
    "    5. Graficar al menos dos series diferentes en la misma línea horizontal del PDF.\n",
    "    \n",
    "    6. Agregar un pie de gráfica en cada gráfica describiéndola.\n",
    "    \n",
    "    7. Agregar texto de conclusiones al final de la página.\n",
    "    \n",
    "    8. Insertar la fecha actual al final del reporte.\n",
    "    \n",
    "    9. Guardar el PDF\n",
    "    "
   ]
  },
  {
   "cell_type": "code",
   "execution_count": 6,
   "metadata": {
    "scrolled": true
   },
   "outputs": [
    {
     "data": {
      "image/png": "[encoded data removed]",
      "text/plain": [
       "<Figure size 432x288 with 1 Axes>"
      ]
     },
     "metadata": {
      "needs_background": "light"
     },
     "output_type": "display_data"
    }
   ],
   "source": [
    "from reportlab.lib.pagesizes import A4\n",
    "from reportlab.pdfgen import canvas\n",
    "from reportlab.lib.units import inch,mm\n",
    "import random,math\n",
    "import numpy as np\n",
    "import matplotlib.pyplot as plt\n",
    "from reportlab.lib.utils import ImageReader\n",
    "\n",
    "c = canvas.Canvas('Comparación de ventas_Raquel_Barrera.pdf',pagesize=A4,)\n",
    "c.setFont('Helvetica',12)\n",
    "\n",
    "c.drawString(213, 760, \"ESCUELA PROFESIONAL DE\")\n",
    "c.drawString(180, 745, \"INGENIERIA EN TELECOMUNICACIONES\")\n",
    "\n",
    "c.drawString(159, 720, 'ESTUDIANTE: BARRERA BEGAZO, RAQUEL YOSELIN')\n",
    "c.drawString(190, 705, \"CORREO: RBARRERAB@UNSA.EDU.PE \")\n",
    "\n",
    "c.drawString(167, 675, \"ESTE REPORTE MUESTRA LA COMPARACIÓN\")\n",
    "c.drawString(137, 660, \"ENTRE LAS VENTAS MÁXIMAS Y MÍNIMAS EN EL\")\n",
    "c.drawString(129, 645, \"UN PUESTO QUE SE HAN ALCANZADO SEGÚN CADA MES DEL AÑO\")\n",
    "\n",
    "c.drawString(265, 590, \"GRÁFICAS:\")\n",
    "\n",
    "meses = ['E','F','M','A','Ma','J','Ju','Ag','S','O','N','D']\n",
    "ventas = [890,730,900,502,610,600,790,911,812,813,914,154]\n",
    "plt.bar(meses,ventas)\n",
    "plt.savefig('grafico1.png')\n",
    "\n",
    "grafico1 = ImageReader('grafico1.png')\n",
    "c.drawImage(grafico1,104*mm,112*mm,width=100*mm,preserveAspectRatio=True)\n",
    "\n",
    "meses = ['E','F','M','A','Ma','J','Ju','Ag','S','O','N','D']\n",
    "ventas = [1000, 1200, 1500, 1400, 1600, 1000, 1200, 1100, 1000, 900, 1000, 1300]\n",
    "plt.bar(meses, ventas)\n",
    "plt.savefig('grafico2.png')\n",
    "\n",
    "grafico2 = ImageReader('grafico2.png')\n",
    "c.drawImage(grafico2,8*mm,112*mm,width=100*mm,preserveAspectRatio=True)\n",
    "\n",
    "c.drawString(132, 545, 'GRAFICO DE BARRAS PARA VENTAS MÁXIMAS Y MÍNIMAS ')\n",
    "\n",
    "c.drawString(70, 360, 'Gráfica 01: VENTAS')\n",
    "c.drawString(71, 348, \"Mínimas ventas de un año\")\n",
    "\n",
    "c.drawString(345, 360, 'Gráfica 02:VENTAS')\n",
    "c.drawString(356, 348, \"Máximas ventas de un año\")\n",
    "\n",
    "c.drawString(242, 275, 'CONCLUSIONES:')\n",
    "c.drawString(50, 255, \" Conclusión 01: De la gráfica 01 mostrada, se puede concluir que las ventas mínimas \")\n",
    "c.drawString(50, 240, \" son de los meses de abril y diciembre, meses en los cuales la\")\n",
    "c.drawString(50, 225, \" venta no tuvo buen lugar\")\n",
    "\n",
    "c.drawString(50, 205, \" Conclusión 02: De la gráfica 02 mostrada, se puede concluir que las ventas máximas\")\n",
    "c.drawString(50, 190, \" son de los meses de abril y junio, meses en los cuales la\")\n",
    "c.drawString(50, 175, \" las ventas sobresalieron.\")\n",
    "\n",
    "c.drawString(234, 80, \" Arequipa - 05/07/2022\")\n",
    "\n"
   ]
  },
  {
   "cell_type": "markdown",
   "metadata": {},
   "source": [
    "### Gurdar pdf "
   ]
  },
  {
   "cell_type": "code",
   "execution_count": 7,
   "metadata": {},
   "outputs": [],
   "source": [
    "# Nombre: \"Comparación de ventas_Raquel_Barrera.pdf\"\n",
    "c.save()"
   ]
  },
  {
   "cell_type": "markdown",
   "metadata": {},
   "source": [
    "![linea 2](https://user-images.githubusercontent.com/19308295/115926262-2fb62980-a448-11eb-8189-c2f10e499944.png)"
   ]
  },
  {
   "cell_type": "markdown",
   "metadata": {},
   "source": [
    "## <font color=#33A5FF>****BIBLIOGRAFÍA****<tfont>"
   ]
  },
  {
   "cell_type": "markdown",
   "metadata": {},
   "source": [
    "[1] ReportLab:    https://www.reportlab.com/docs/reportlab-userguide.pdf\n",
    "\n",
    "[2] Eugenia Bahit Curso: Python para Principiantes www.eugeniabahit.com"
   ]
  },
  {
   "cell_type": "markdown",
   "metadata": {},
   "source": [
    "![linea 1](https://user-images.githubusercontent.com/19308295/115926252-2b8a0c00-a448-11eb-9d9c-b43beaf0ff68.png)"
   ]
  }
 ],
 "metadata": {
  "kernelspec": {
   "display_name": "Python 3",
   "language": "python",
   "name": "python3"
  },
  "language_info": {
   "codemirror_mode": {
    "name": "ipython",
    "version": 3
   },
   "file_extension": ".py",
   "mimetype": "text/x-python",
   "name": "python",
   "nbconvert_exporter": "python",
   "pygments_lexer": "ipython3",
   "version": "3.8.12"
  }
 },
 "nbformat": 4,
 "nbformat_minor": 4
}
